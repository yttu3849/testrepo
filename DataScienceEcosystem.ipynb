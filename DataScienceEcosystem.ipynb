{
 "cells": [
  {
   "cell_type": "markdown",
   "id": "21c40b80",
   "metadata": {},
   "source": [
    "# Data Science Tools and Ecosystem"
   ]
  },
  {
   "cell_type": "markdown",
   "id": "93be3924",
   "metadata": {},
   "source": [
    "In this notebook, Data Science Tools and Ecosystem are summarized."
   ]
  },
  {
   "cell_type": "markdown",
   "id": "a6186e00",
   "metadata": {},
   "source": [
    "#### Objectives: "
   ]
  },
  {
   "cell_type": "markdown",
   "id": "b0de455a",
   "metadata": {},
   "source": [
    "* List popular languages for Data Science.\n",
    "* List some of the commonly libraries used by data science.\n",
    "* List some development environment open sources tools of data science."
   ]
  },
  {
   "cell_type": "markdown",
   "id": "35c874ae",
   "metadata": {},
   "source": [
    "Some of the popular languages that Data Scientists use are:\n"
   ]
  },
  {
   "cell_type": "raw",
   "id": "67d26e17",
   "metadata": {},
   "source": [
    "1. Python:extensive libraries for data analysis, visualization and machine learning.\n",
    "2. R: data mining and statistical analysis capabilities, robust support community.\n",
    "3. SQL: crucial for querying data and managing databases"
   ]
  },
  {
   "cell_type": "markdown",
   "id": "43c72592",
   "metadata": {},
   "source": [
    "Some of the commonly used libraries used by Data Scientists include:"
   ]
  },
  {
   "cell_type": "markdown",
   "id": "c7302acd",
   "metadata": {},
   "source": [
    "1. Pandas\n",
    "2. Nuumpy\n",
    "3. Matplotlib"
   ]
  },
  {
   "cell_type": "markdown",
   "id": "8a3ab514",
   "metadata": {},
   "source": [
    "### Data Science Tools"
   ]
  },
  {
   "cell_type": "markdown",
   "id": "cc9ed06f",
   "metadata": {},
   "source": [
    "|Data Science Tools|\n",
    "-------------------------------\n",
    "|Jupypter Notebooks|\n",
    "|R Studio's|\n",
    "|Zeppelin Notebooks|"
   ]
  },
  {
   "cell_type": "markdown",
   "id": "a5e0d80f",
   "metadata": {},
   "source": [
    "### Below are a few examples of evaluating arithmetic expressions in Python"
   ]
  },
  {
   "cell_type": "code",
   "execution_count": 3,
   "id": "78ce5f43",
   "metadata": {},
   "outputs": [
    {
     "data": {
      "text/plain": [
       "17"
      ]
     },
     "execution_count": 3,
     "metadata": {},
     "output_type": "execute_result"
    }
   ],
   "source": [
    "# This a simple arithmetic expression to mutiply then add integers\n",
    "(3*4)+5"
   ]
  },
  {
   "cell_type": "code",
   "execution_count": 7,
   "id": "6578b60b",
   "metadata": {},
   "outputs": [
    {
     "name": "stdout",
     "output_type": "stream",
     "text": [
      " 200 minutes eaquals: 33.333333333333336 hours\n"
     ]
    }
   ],
   "source": [
    "# This will convert 200 minutes to hours by diving by 60\n",
    "print(f\" 200 minutes eaquals: {200/6} hours\")"
   ]
  },
  {
   "cell_type": "markdown",
   "id": "d5785292",
   "metadata": {},
   "source": [
    "# Author:\n",
    "Ya-Ting TU"
   ]
  },
  {
   "cell_type": "code",
   "execution_count": null,
   "id": "23f4f546",
   "metadata": {},
   "outputs": [],
   "source": []
  }
 ],
 "metadata": {
  "kernelspec": {
   "display_name": "Python 3 (ipykernel)",
   "language": "python",
   "name": "python3"
  },
  "language_info": {
   "codemirror_mode": {
    "name": "ipython",
    "version": 3
   },
   "file_extension": ".py",
   "mimetype": "text/x-python",
   "name": "python",
   "nbconvert_exporter": "python",
   "pygments_lexer": "ipython3",
   "version": "3.9.18"
  }
 },
 "nbformat": 4,
 "nbformat_minor": 5
}
